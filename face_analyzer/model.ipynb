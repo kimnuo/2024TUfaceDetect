{
 "cells": [
  {
   "cell_type": "code",
   "execution_count": 1,
   "metadata": {},
   "outputs": [],
   "source": [
    "# 이미지 별 x, y 좌표 추출\n",
    "def extract_coordinates(dataframe):\n",
    "    coordinates = {}\n",
    "    for image_name in dataframe['image_name'].unique():\n",
    "        # 해당 이미지의 데이터 필터링\n",
    "        image_data = dataframe[dataframe['image_name'] == image_name]\n",
    "        # x, y 좌표 배열 생성\n",
    "        x_coords = image_data['x'].tolist()\n",
    "        y_coords = image_data['y'].tolist()\n",
    "        # 딕셔너리에 저장\n",
    "        coordinates[image_name] = {'x': x_coords, 'y': y_coords}\n",
    "    return coordinates"
   ]
  },
  {
   "cell_type": "code",
   "execution_count": 2,
   "metadata": {},
   "outputs": [],
   "source": [
    "import numpy as np\n",
    "import pandas as pd\n",
    "\n",
    "neutral_df = pd.read_csv(\"../output/neutral.csv\")\n",
    "angry_df = pd.read_csv(\"../output/angry.csv\")\n",
    "happy_df = pd.read_csv(\"../output/happy.csv\")\n",
    "neutral_df['label'] = 0\n",
    "happy_df['label'] = 1\n",
    "angry_df['label'] = 2\n",
    "\n",
    "face_metadata_df = pd.concat([neutral_df, angry_df, happy_df], ignore_index=True)\n",
    "face_metadata_df = face_metadata_df.sort_values(by=\"image_name\")"
   ]
  },
  {
   "cell_type": "code",
   "execution_count": 3,
   "metadata": {},
   "outputs": [
    {
     "data": {
      "text/html": [
       "<div>\n",
       "<style scoped>\n",
       "    .dataframe tbody tr th:only-of-type {\n",
       "        vertical-align: middle;\n",
       "    }\n",
       "\n",
       "    .dataframe tbody tr th {\n",
       "        vertical-align: top;\n",
       "    }\n",
       "\n",
       "    .dataframe thead th {\n",
       "        text-align: right;\n",
       "    }\n",
       "</style>\n",
       "<table border=\"1\" class=\"dataframe\">\n",
       "  <thead>\n",
       "    <tr style=\"text-align: right;\">\n",
       "      <th></th>\n",
       "      <th>image_name</th>\n",
       "      <th>face_id</th>\n",
       "      <th>point_id</th>\n",
       "      <th>x</th>\n",
       "      <th>y</th>\n",
       "      <th>label</th>\n",
       "    </tr>\n",
       "  </thead>\n",
       "  <tbody>\n",
       "    <tr>\n",
       "      <th>0</th>\n",
       "      <td>C0000.jpg</td>\n",
       "      <td>0</td>\n",
       "      <td>0</td>\n",
       "      <td>152</td>\n",
       "      <td>106</td>\n",
       "      <td>0</td>\n",
       "    </tr>\n",
       "    <tr>\n",
       "      <th>36</th>\n",
       "      <td>C0000.jpg</td>\n",
       "      <td>0</td>\n",
       "      <td>36</td>\n",
       "      <td>159</td>\n",
       "      <td>103</td>\n",
       "      <td>0</td>\n",
       "    </tr>\n",
       "    <tr>\n",
       "      <th>37</th>\n",
       "      <td>C0000.jpg</td>\n",
       "      <td>0</td>\n",
       "      <td>37</td>\n",
       "      <td>161</td>\n",
       "      <td>101</td>\n",
       "      <td>0</td>\n",
       "    </tr>\n",
       "    <tr>\n",
       "      <th>38</th>\n",
       "      <td>C0000.jpg</td>\n",
       "      <td>0</td>\n",
       "      <td>38</td>\n",
       "      <td>165</td>\n",
       "      <td>101</td>\n",
       "      <td>0</td>\n",
       "    </tr>\n",
       "    <tr>\n",
       "      <th>39</th>\n",
       "      <td>C0000.jpg</td>\n",
       "      <td>0</td>\n",
       "      <td>39</td>\n",
       "      <td>169</td>\n",
       "      <td>104</td>\n",
       "      <td>0</td>\n",
       "    </tr>\n",
       "  </tbody>\n",
       "</table>\n",
       "</div>"
      ],
      "text/plain": [
       "   image_name  face_id  point_id    x    y  label\n",
       "0   C0000.jpg        0         0  152  106      0\n",
       "36  C0000.jpg        0        36  159  103      0\n",
       "37  C0000.jpg        0        37  161  101      0\n",
       "38  C0000.jpg        0        38  165  101      0\n",
       "39  C0000.jpg        0        39  169  104      0"
      ]
     },
     "execution_count": 3,
     "metadata": {},
     "output_type": "execute_result"
    }
   ],
   "source": [
    "face_metadata_df.head(5)"
   ]
  },
  {
   "cell_type": "code",
   "execution_count": 4,
   "metadata": {},
   "outputs": [],
   "source": [
    "x_face_metadata_df = face_metadata_df.drop('label', axis=1)\n",
    "y_face_metadata_df = face_metadata_df[['image_name', 'label']]"
   ]
  },
  {
   "cell_type": "code",
   "execution_count": 5,
   "metadata": {},
   "outputs": [
    {
     "data": {
      "text/html": [
       "<div>\n",
       "<style scoped>\n",
       "    .dataframe tbody tr th:only-of-type {\n",
       "        vertical-align: middle;\n",
       "    }\n",
       "\n",
       "    .dataframe tbody tr th {\n",
       "        vertical-align: top;\n",
       "    }\n",
       "\n",
       "    .dataframe thead th {\n",
       "        text-align: right;\n",
       "    }\n",
       "</style>\n",
       "<table border=\"1\" class=\"dataframe\">\n",
       "  <thead>\n",
       "    <tr style=\"text-align: right;\">\n",
       "      <th></th>\n",
       "      <th>image_name</th>\n",
       "      <th>face_id</th>\n",
       "      <th>point_id</th>\n",
       "      <th>x</th>\n",
       "      <th>y</th>\n",
       "    </tr>\n",
       "  </thead>\n",
       "  <tbody>\n",
       "    <tr>\n",
       "      <th>0</th>\n",
       "      <td>C0000.jpg</td>\n",
       "      <td>0</td>\n",
       "      <td>0</td>\n",
       "      <td>152</td>\n",
       "      <td>106</td>\n",
       "    </tr>\n",
       "    <tr>\n",
       "      <th>36</th>\n",
       "      <td>C0000.jpg</td>\n",
       "      <td>0</td>\n",
       "      <td>36</td>\n",
       "      <td>159</td>\n",
       "      <td>103</td>\n",
       "    </tr>\n",
       "    <tr>\n",
       "      <th>37</th>\n",
       "      <td>C0000.jpg</td>\n",
       "      <td>0</td>\n",
       "      <td>37</td>\n",
       "      <td>161</td>\n",
       "      <td>101</td>\n",
       "    </tr>\n",
       "    <tr>\n",
       "      <th>38</th>\n",
       "      <td>C0000.jpg</td>\n",
       "      <td>0</td>\n",
       "      <td>38</td>\n",
       "      <td>165</td>\n",
       "      <td>101</td>\n",
       "    </tr>\n",
       "    <tr>\n",
       "      <th>39</th>\n",
       "      <td>C0000.jpg</td>\n",
       "      <td>0</td>\n",
       "      <td>39</td>\n",
       "      <td>169</td>\n",
       "      <td>104</td>\n",
       "    </tr>\n",
       "  </tbody>\n",
       "</table>\n",
       "</div>"
      ],
      "text/plain": [
       "   image_name  face_id  point_id    x    y\n",
       "0   C0000.jpg        0         0  152  106\n",
       "36  C0000.jpg        0        36  159  103\n",
       "37  C0000.jpg        0        37  161  101\n",
       "38  C0000.jpg        0        38  165  101\n",
       "39  C0000.jpg        0        39  169  104"
      ]
     },
     "execution_count": 5,
     "metadata": {},
     "output_type": "execute_result"
    }
   ],
   "source": [
    "x_face_metadata_df.head(5)"
   ]
  },
  {
   "cell_type": "code",
   "execution_count": 6,
   "metadata": {},
   "outputs": [
    {
     "data": {
      "text/html": [
       "<div>\n",
       "<style scoped>\n",
       "    .dataframe tbody tr th:only-of-type {\n",
       "        vertical-align: middle;\n",
       "    }\n",
       "\n",
       "    .dataframe tbody tr th {\n",
       "        vertical-align: top;\n",
       "    }\n",
       "\n",
       "    .dataframe thead th {\n",
       "        text-align: right;\n",
       "    }\n",
       "</style>\n",
       "<table border=\"1\" class=\"dataframe\">\n",
       "  <thead>\n",
       "    <tr style=\"text-align: right;\">\n",
       "      <th></th>\n",
       "      <th>image_name</th>\n",
       "      <th>label</th>\n",
       "    </tr>\n",
       "  </thead>\n",
       "  <tbody>\n",
       "    <tr>\n",
       "      <th>0</th>\n",
       "      <td>C0000.jpg</td>\n",
       "      <td>0</td>\n",
       "    </tr>\n",
       "    <tr>\n",
       "      <th>36</th>\n",
       "      <td>C0000.jpg</td>\n",
       "      <td>0</td>\n",
       "    </tr>\n",
       "    <tr>\n",
       "      <th>37</th>\n",
       "      <td>C0000.jpg</td>\n",
       "      <td>0</td>\n",
       "    </tr>\n",
       "    <tr>\n",
       "      <th>38</th>\n",
       "      <td>C0000.jpg</td>\n",
       "      <td>0</td>\n",
       "    </tr>\n",
       "    <tr>\n",
       "      <th>39</th>\n",
       "      <td>C0000.jpg</td>\n",
       "      <td>0</td>\n",
       "    </tr>\n",
       "  </tbody>\n",
       "</table>\n",
       "</div>"
      ],
      "text/plain": [
       "   image_name  label\n",
       "0   C0000.jpg      0\n",
       "36  C0000.jpg      0\n",
       "37  C0000.jpg      0\n",
       "38  C0000.jpg      0\n",
       "39  C0000.jpg      0"
      ]
     },
     "execution_count": 6,
     "metadata": {},
     "output_type": "execute_result"
    }
   ],
   "source": [
    "y_face_metadata_df.head(5)"
   ]
  },
  {
   "cell_type": "code",
   "execution_count": 7,
   "metadata": {},
   "outputs": [],
   "source": [
    "from sklearn.model_selection import train_test_split\n",
    "\n",
    "def convert_to_X_train(target_df: pd.DataFrame):\n",
    "    result = list()\n",
    "    image_names = (target_df[\"image_name\"]).unique()\n",
    "\n",
    "    for image_name in image_names:\n",
    "        points = target_df[target_df[\"image_name\"] == image_name][[\"x\", \"y\"]].values\n",
    "        result.append(points)\n",
    "    \n",
    "    return np.array(result)\n",
    "    \n",
    "x_train_data = convert_to_X_train(x_face_metadata_df)"
   ]
  },
  {
   "cell_type": "code",
   "execution_count": 8,
   "metadata": {},
   "outputs": [],
   "source": [
    "def convert_to_Y_train(target_df: pd.DataFrame):\n",
    "    result = target_df.drop_duplicates('image_name').copy()\n",
    "    result['neutral'] = result['label'].map({ 0: 1, 1: 0, 2: 0})\n",
    "    result['happy'] = result['label'].map({ 0: 0, 1: 1, 2: 0 })\n",
    "    result['angry'] = result['label'].map({ 0: 0, 1: 0, 2: 1 })                                           \n",
    "    \n",
    "    return np.array(result.drop(['image_name', 'label'], axis=1))\n",
    "\n",
    "y_train_data = convert_to_Y_train(y_face_metadata_df)"
   ]
  },
  {
   "cell_type": "code",
   "execution_count": 9,
   "metadata": {},
   "outputs": [],
   "source": [
    "X_train, X_test, Y_train, Y_test = train_test_split(x_train_data,\n",
    "                                                    y_train_data,\n",
    "                                                    test_size=0.2,\n",
    "                                                    random_state=11)"
   ]
  },
  {
   "cell_type": "code",
   "execution_count": 10,
   "metadata": {},
   "outputs": [
    {
     "name": "stdout",
     "output_type": "stream",
     "text": [
      "7200\n",
      "7200\n"
     ]
    }
   ],
   "source": [
    "print(X_train.shape[0])\n",
    "print(Y_train.shape[0])"
   ]
  },
  {
   "cell_type": "code",
   "execution_count": 11,
   "metadata": {},
   "outputs": [],
   "source": [
    "import tensorflow as tf\n",
    "from tensorflow.keras import Sequential\n",
    "from tensorflow.keras.layers import Dense, Conv1D, Dropout, BatchNormalization, GlobalAveragePooling1D\n",
    "from tensorflow.keras.callbacks import Callback, ReduceLROnPlateau"
   ]
  },
  {
   "cell_type": "code",
   "execution_count": null,
   "metadata": {},
   "outputs": [
    {
     "name": "stderr",
     "output_type": "stream",
     "text": [
      "c:\\Users\\daheung\\AppData\\Local\\Programs\\Python\\Python311\\Lib\\site-packages\\keras\\src\\layers\\convolutional\\base_conv.py:107: UserWarning: Do not pass an `input_shape`/`input_dim` argument to a layer. When using Sequential models, prefer using an `Input(shape)` object as the first layer in the model instead.\n",
      "  super().__init__(activity_regularizer=activity_regularizer, **kwargs)\n"
     ]
    }
   ],
   "source": [
    "model = Sequential([\n",
    "    Conv1D(64, kernel_size=3, activation='relu', input_shape=(68, 2)),\n",
    "    BatchNormalization(),  # 모델 안정화\n",
    "    Dense(32 , activation='relu'),\n",
    "    Dense(32 , activation='relu'),\n",
    "    Dense(64 , activation='relu'),\n",
    "    Dense(128, activation='relu'), \n",
    "    Dense(256, activation='relu'), Dropout(0.5),\n",
    "    Dense(256, activation='relu'), Dropout(0.5),  \n",
    "    Dense(128, activation='relu'),\n",
    "    Dense(64 , activation='relu'),\n",
    "    Dense(32 , activation='relu'),\n",
    "    Dense(32 , activation='relu'),\n",
    "    \n",
    "    GlobalAveragePooling1D(),\n",
    "    Dense(3, activation='softmax') # 출력층\n",
    "])"
   ]
  },
  {
   "cell_type": "code",
   "execution_count": 38,
   "metadata": {},
   "outputs": [],
   "source": [
    "from model_analyzer import NEpochCallback, NBatchCallback"
   ]
  },
  {
   "cell_type": "code",
   "execution_count": 39,
   "metadata": {},
   "outputs": [],
   "source": [
    "batch_callback = NBatchCallback(n=10)\n",
    "epoch_callback = NEpochCallback(n= 2, filepath=\"./weights/\")\n",
    "\n",
    "reduce_lr = ReduceLROnPlateau(monitor='val_loss', factor=0.5, patience=3, min_lr=1e-6)\n",
    "model.compile(optimizer='nadam', loss='categorical_crossentropy', metrics=['accuracy'])"
   ]
  },
  {
   "cell_type": "code",
   "execution_count": 40,
   "metadata": {},
   "outputs": [
    {
     "name": "stdout",
     "output_type": "stream",
     "text": [
      "Epoch 1/10\n",
      "\u001b[1m 5/57\u001b[0m \u001b[32m━\u001b[0m\u001b[37m━━━━━━━━━━━━━━━━━━━\u001b[0m \u001b[1m0s\u001b[0m 13ms/step - accuracy: 0.3032 - loss: 1.1017Batch 10: logs={'accuracy': 0.34062498807907104, 'loss': 1.0993856191635132}\n",
      "\u001b[1m17/57\u001b[0m \u001b[32m━━━━━\u001b[0m\u001b[37m━━━━━━━━━━━━━━━\u001b[0m \u001b[1m0s\u001b[0m 11ms/step - accuracy: 0.3231 - loss: 1.1003Batch 20: logs={'accuracy': 0.3246093690395355, 'loss': 1.099638819694519}\n",
      "\u001b[1m26/57\u001b[0m \u001b[32m━━━━━━━━━\u001b[0m\u001b[37m━━━━━━━━━━━\u001b[0m \u001b[1m0s\u001b[0m 11ms/step - accuracy: 0.3254 - loss: 1.1001Batch 30: logs={'accuracy': 0.3356770873069763, 'loss': 1.0991946458816528}\n",
      "\u001b[1m36/57\u001b[0m \u001b[32m━━━━━━━━━━━━\u001b[0m\u001b[37m━━━━━━━━\u001b[0m \u001b[1m0s\u001b[0m 11ms/step - accuracy: 0.3282 - loss: 1.0998Batch 40: logs={'accuracy': 0.33984375, 'loss': 1.0987132787704468}\n",
      "\u001b[1m47/57\u001b[0m \u001b[32m━━━━━━━━━━━━━━━━\u001b[0m\u001b[37m━━━━\u001b[0m \u001b[1m0s\u001b[0m 11ms/step - accuracy: 0.3305 - loss: 1.0995Batch 50: logs={'accuracy': 0.3400000035762787, 'loss': 1.0985231399536133}\n",
      "\u001b[1m57/57\u001b[0m \u001b[32m━━━━━━━━━━━━━━━━━━━━\u001b[0m\u001b[37m\u001b[0m \u001b[1m3s\u001b[0m 11ms/step - accuracy: 0.3320 - loss: 1.0993\n",
      "Epoch 2/10\n",
      "\u001b[1m 1/57\u001b[0m \u001b[37m━━━━━━━━━━━━━━━━━━━━\u001b[0m \u001b[1m1s\u001b[0m 28ms/step - accuracy: 0.3906 - loss: 1.0934Batch 60: logs={'accuracy': 0.3880208432674408, 'loss': 1.0943177938461304}\n",
      "\u001b[1m12/57\u001b[0m \u001b[32m━━━━\u001b[0m\u001b[37m━━━━━━━━━━━━━━━━\u001b[0m \u001b[1m0s\u001b[0m 11ms/step - accuracy: 0.3931 - loss: 1.0944Batch 70: logs={'accuracy': 0.39182692766189575, 'loss': 1.0942658185958862}\n",
      "\u001b[1m17/57\u001b[0m \u001b[32m━━━━━\u001b[0m\u001b[37m━━━━━━━━━━━━━━━\u001b[0m \u001b[1m0s\u001b[0m 11ms/step - accuracy: 0.3917 - loss: 1.0943Batch 80: logs={'accuracy': 0.3913043439388275, 'loss': 1.0918201208114624}\n",
      "\u001b[1m32/57\u001b[0m \u001b[32m━━━━━━━━━━━\u001b[0m\u001b[37m━━━━━━━━━\u001b[0m \u001b[1m0s\u001b[0m 11ms/step - accuracy: 0.3906 - loss: 1.0929Batch 90: logs={'accuracy': 0.39299243688583374, 'loss': 1.0887035131454468}\n",
      "\u001b[1m37/57\u001b[0m \u001b[32m━━━━━━━━━━━━\u001b[0m\u001b[37m━━━━━━━━\u001b[0m \u001b[1m0s\u001b[0m 11ms/step - accuracy: 0.3915 - loss: 1.0921Batch 100: logs={'accuracy': 0.40279796719551086, 'loss': 1.0859512090682983}\n",
      "\u001b[1m48/57\u001b[0m \u001b[32m━━━━━━━━━━━━━━━━\u001b[0m\u001b[37m━━━━\u001b[0m \u001b[1m0s\u001b[0m 11ms/step - accuracy: 0.3939 - loss: 1.0904Batch 110: logs={'accuracy': 0.4058077931404114, 'loss': 1.0790865421295166}\n",
      "\u001b[1m53/57\u001b[0m \u001b[32m━━━━━━━━━━━━━━━━━━\u001b[0m\u001b[37m━━\u001b[0m \u001b[1m0s\u001b[0m 11ms/step - accuracy: 0.3947 - loss: 1.0895Model weights saved for epoch 2\n",
      "\u001b[1m57/57\u001b[0m \u001b[32m━━━━━━━━━━━━━━━━━━━━\u001b[0m\u001b[37m\u001b[0m \u001b[1m1s\u001b[0m 12ms/step - accuracy: 0.3957 - loss: 1.0885\n",
      "Epoch 3/10\n",
      "\u001b[1m 1/57\u001b[0m \u001b[37m━━━━━━━━━━━━━━━━━━━━\u001b[0m \u001b[1m1s\u001b[0m 25ms/step - accuracy: 0.5078 - loss: 1.0037Batch 120: logs={'accuracy': 0.4453125, 'loss': 1.0317636728286743}\n",
      "\u001b[1m11/57\u001b[0m \u001b[32m━━━\u001b[0m\u001b[37m━━━━━━━━━━━━━━━━━\u001b[0m \u001b[1m0s\u001b[0m 12ms/step - accuracy: 0.4601 - loss: 1.0259Batch 130: logs={'accuracy': 0.4580078125, 'loss': 1.0202076435089111}\n",
      "\u001b[1m25/57\u001b[0m \u001b[32m━━━━━━━━\u001b[0m\u001b[37m━━━━━━━━━━━━\u001b[0m \u001b[1m0s\u001b[0m 12ms/step - accuracy: 0.4579 - loss: 1.0256Batch 140: logs={'accuracy': 0.4720552861690521, 'loss': 1.0218654870986938}\n",
      "\u001b[1m34/57\u001b[0m \u001b[32m━━━━━━━━━━━\u001b[0m\u001b[37m━━━━━━━━━\u001b[0m \u001b[1m0s\u001b[0m 12ms/step - accuracy: 0.4627 - loss: 1.0234Batch 150: logs={'accuracy': 0.4763454794883728, 'loss': 1.0147110223770142}\n",
      "\u001b[1m43/57\u001b[0m \u001b[32m━━━━━━━━━━━━━━━\u001b[0m\u001b[37m━━━━━\u001b[0m \u001b[1m0s\u001b[0m 12ms/step - accuracy: 0.4658 - loss: 1.0209Batch 160: logs={'accuracy': 0.47554346919059753, 'loss': 1.0088698863983154}\n",
      "\u001b[1m51/57\u001b[0m \u001b[32m━━━━━━━━━━━━━━━━━\u001b[0m\u001b[37m━━━\u001b[0m \u001b[1m0s\u001b[0m 13ms/step - accuracy: 0.4677 - loss: 1.0189Batch 170: logs={'accuracy': 0.4818638265132904, 'loss': 1.0035206079483032}\n",
      "\u001b[1m57/57\u001b[0m \u001b[32m━━━━━━━━━━━━━━━━━━━━\u001b[0m\u001b[37m\u001b[0m \u001b[1m1s\u001b[0m 12ms/step - accuracy: 0.4693 - loss: 1.0171\n",
      "Epoch 4/10\n",
      "\u001b[1m 7/57\u001b[0m \u001b[32m━━\u001b[0m\u001b[37m━━━━━━━━━━━━━━━━━━\u001b[0m \u001b[1m0s\u001b[0m 10ms/step - accuracy: 0.5070 - loss: 0.9792Batch 180: logs={'accuracy': 0.4947916567325592, 'loss': 0.9774483442306519}\n",
      "\u001b[1m17/57\u001b[0m \u001b[32m━━━━━\u001b[0m\u001b[37m━━━━━━━━━━━━━━━\u001b[0m \u001b[1m0s\u001b[0m 10ms/step - accuracy: 0.4949 - loss: 0.9766Batch 190: logs={'accuracy': 0.48643091320991516, 'loss': 0.9642747640609741}\n",
      "\u001b[1m28/57\u001b[0m \u001b[32m━━━━━━━━━\u001b[0m\u001b[37m━━━━━━━━━━━\u001b[0m \u001b[1m0s\u001b[0m 11ms/step - accuracy: 0.4931 - loss: 0.9723Batch 200: logs={'accuracy': 0.48679956793785095, 'loss': 0.9717236161231995}\n",
      "\u001b[1m37/57\u001b[0m \u001b[32m━━━━━━━━━━━━\u001b[0m\u001b[37m━━━━━━━━\u001b[0m \u001b[1m0s\u001b[0m 11ms/step - accuracy: 0.4920 - loss: 0.9722Batch 210: logs={'accuracy': 0.49399039149284363, 'loss': 0.969222903251648}\n",
      "\u001b[1m45/57\u001b[0m \u001b[32m━━━━━━━━━━━━━━━\u001b[0m\u001b[37m━━━━━\u001b[0m \u001b[1m0s\u001b[0m 11ms/step - accuracy: 0.4925 - loss: 0.9714Batch 220: logs={'accuracy': 0.49968111515045166, 'loss': 0.9613243341445923}\n",
      "\u001b[1m54/57\u001b[0m \u001b[32m━━━━━━━━━━━━━━━━━━\u001b[0m\u001b[37m━━\u001b[0m \u001b[1m0s\u001b[0m 12ms/step - accuracy: 0.4938 - loss: 0.9696Model weights saved for epoch 4\n",
      "\u001b[1m57/57\u001b[0m \u001b[32m━━━━━━━━━━━━━━━━━━━━\u001b[0m\u001b[37m\u001b[0m \u001b[1m1s\u001b[0m 13ms/step - accuracy: 0.4942 - loss: 0.9690\n",
      "Epoch 5/10\n",
      "\u001b[1m 1/57\u001b[0m \u001b[37m━━━━━━━━━━━━━━━━━━━━\u001b[0m \u001b[1m1s\u001b[0m 32ms/step - accuracy: 0.4297 - loss: 0.9846Batch 230: logs={'accuracy': 0.45703125, 'loss': 0.9584115147590637}\n",
      "\u001b[1m 7/57\u001b[0m \u001b[32m━━\u001b[0m\u001b[37m━━━━━━━━━━━━━━━━━━\u001b[0m \u001b[1m0s\u001b[0m 9ms/step - accuracy: 0.4742 - loss: 0.9805 Batch 240: logs={'accuracy': 0.5091145634651184, 'loss': 0.9493686556816101}\n",
      "\u001b[1m21/57\u001b[0m \u001b[32m━━━━━━━\u001b[0m\u001b[37m━━━━━━━━━━━━━\u001b[0m \u001b[1m0s\u001b[0m 11ms/step - accuracy: 0.4920 - loss: 0.9635Batch 250: logs={'accuracy': 0.5031960010528564, 'loss': 0.9526153802871704}\n",
      "\u001b[1m26/57\u001b[0m \u001b[32m━━━━━━━━━\u001b[0m\u001b[37m━━━━━━━━━━━\u001b[0m \u001b[1m0s\u001b[0m 11ms/step - accuracy: 0.4942 - loss: 0.9615Batch 260: logs={'accuracy': 0.509521484375, 'loss': 0.9456226229667664}\n",
      "\u001b[1m37/57\u001b[0m \u001b[32m━━━━━━━━━━━━\u001b[0m\u001b[37m━━━━━━━━\u001b[0m \u001b[1m0s\u001b[0m 11ms/step - accuracy: 0.4991 - loss: 0.9570Batch 270: logs={'accuracy': 0.515997052192688, 'loss': 0.9412139654159546}\n",
      "\u001b[1m47/57\u001b[0m \u001b[32m━━━━━━━━━━━━━━━━\u001b[0m\u001b[37m━━━━\u001b[0m \u001b[1m0s\u001b[0m 11ms/step - accuracy: 0.5028 - loss: 0.9535Batch 280: logs={'accuracy': 0.5132211446762085, 'loss': 0.9358590245246887}\n",
      "\u001b[1m57/57\u001b[0m \u001b[32m━━━━━━━━━━━━━━━━━━━━\u001b[0m\u001b[37m\u001b[0m \u001b[1m1s\u001b[0m 11ms/step - accuracy: 0.5048 - loss: 0.9501\n",
      "Epoch 6/10\n",
      "\u001b[1m 1/57\u001b[0m \u001b[37m━━━━━━━━━━━━━━━━━━━━\u001b[0m \u001b[1m1s\u001b[0m 31ms/step - accuracy: 0.5625 - loss: 0.9064Batch 290: logs={'accuracy': 0.5249999761581421, 'loss': 0.9823992848396301}\n",
      "\u001b[1m11/57\u001b[0m \u001b[32m━━━\u001b[0m\u001b[37m━━━━━━━━━━━━━━━━━\u001b[0m \u001b[1m0s\u001b[0m 11ms/step - accuracy: 0.5276 - loss: 0.9613Batch 300: logs={'accuracy': 0.5276041626930237, 'loss': 0.9318647384643555}\n",
      "\u001b[1m22/57\u001b[0m \u001b[32m━━━━━━━\u001b[0m\u001b[37m━━━━━━━━━━━━━\u001b[0m \u001b[1m0s\u001b[0m 11ms/step - accuracy: 0.5284 - loss: 0.9460Batch 310: logs={'accuracy': 0.5290625095367432, 'loss': 0.9288739562034607}\n",
      "\u001b[1m32/57\u001b[0m \u001b[32m━━━━━━━━━━━\u001b[0m\u001b[37m━━━━━━━━━\u001b[0m \u001b[1m0s\u001b[0m 11ms/step - accuracy: 0.5281 - loss: 0.9408Batch 320: logs={'accuracy': 0.5308035612106323, 'loss': 0.9237567186355591}\n",
      "\u001b[1m42/57\u001b[0m \u001b[32m━━━━━━━━━━━━━━\u001b[0m\u001b[37m━━━━━━\u001b[0m \u001b[1m0s\u001b[0m 11ms/step - accuracy: 0.5292 - loss: 0.9363Batch 330: logs={'accuracy': 0.5388888716697693, 'loss': 0.917125940322876}\n",
      "\u001b[1m53/57\u001b[0m \u001b[32m━━━━━━━━━━━━━━━━━━\u001b[0m\u001b[37m━━\u001b[0m \u001b[1m0s\u001b[0m 11ms/step - accuracy: 0.5312 - loss: 0.9323Batch 340: logs={'accuracy': 0.5380681753158569, 'loss': 0.9179425239562988}\n",
      "Model weights saved for epoch 6\n",
      "\u001b[1m57/57\u001b[0m \u001b[32m━━━━━━━━━━━━━━━━━━━━\u001b[0m\u001b[37m\u001b[0m \u001b[1m1s\u001b[0m 12ms/step - accuracy: 0.5316 - loss: 0.9311\n",
      "Epoch 7/10\n",
      "\u001b[1m 7/57\u001b[0m \u001b[32m━━\u001b[0m\u001b[37m━━━━━━━━━━━━━━━━━━\u001b[0m \u001b[1m0s\u001b[0m 10ms/step - accuracy: 0.4994 - loss: 0.9543Batch 350: logs={'accuracy': 0.5009765625, 'loss': 0.946359395980835}\n",
      "\u001b[1m17/57\u001b[0m \u001b[32m━━━━━\u001b[0m\u001b[37m━━━━━━━━━━━━━━━\u001b[0m \u001b[1m0s\u001b[0m 11ms/step - accuracy: 0.5053 - loss: 0.9405Batch 360: logs={'accuracy': 0.5208333134651184, 'loss': 0.9105062484741211}\n",
      "\u001b[1m27/57\u001b[0m \u001b[32m━━━━━━━━━\u001b[0m\u001b[37m━━━━━━━━━━━\u001b[0m \u001b[1m0s\u001b[0m 11ms/step - accuracy: 0.5132 - loss: 0.9262Batch 370: logs={'accuracy': 0.5318080186843872, 'loss': 0.8995513319969177}\n",
      "\u001b[1m36/57\u001b[0m \u001b[32m━━━━━━━━━━━━\u001b[0m\u001b[37m━━━━━━━━\u001b[0m \u001b[1m0s\u001b[0m 11ms/step - accuracy: 0.5179 - loss: 0.9204Batch 380: logs={'accuracy': 0.5287829041481018, 'loss': 0.9036495685577393}\n",
      "\u001b[1m45/57\u001b[0m \u001b[32m━━━━━━━━━━━━━━━\u001b[0m\u001b[37m━━━━━\u001b[0m \u001b[1m0s\u001b[0m 11ms/step - accuracy: 0.5208 - loss: 0.9167Batch 390: logs={'accuracy': 0.53955078125, 'loss': 0.8955540657043457}\n",
      "\u001b[1m57/57\u001b[0m \u001b[32m━━━━━━━━━━━━━━━━━━━━\u001b[0m\u001b[37m\u001b[0m \u001b[1m1s\u001b[0m 12ms/step - accuracy: 0.5246 - loss: 0.9125\n",
      "Epoch 8/10\n",
      "Batch 400: logs={'accuracy': 0.5390625, 'loss': 0.8999834656715393}\n",
      "\u001b[1m 6/57\u001b[0m \u001b[32m━━\u001b[0m\u001b[37m━━━━━━━━━━━━━━━━━━\u001b[0m \u001b[1m0s\u001b[0m 11ms/step - accuracy: 0.5719 - loss: 0.8823Batch 410: logs={'accuracy': 0.5646306872367859, 'loss': 0.8803067803382874}\n",
      "\u001b[1m16/57\u001b[0m \u001b[32m━━━━━\u001b[0m\u001b[37m━━━━━━━━━━━━━━━\u001b[0m \u001b[1m0s\u001b[0m 12ms/step - accuracy: 0.5663 - loss: 0.8828Batch 420: logs={'accuracy': 0.5569196343421936, 'loss': 0.897881805896759}\n",
      "\u001b[1m26/57\u001b[0m \u001b[32m━━━━━━━━━\u001b[0m\u001b[37m━━━━━━━━━━━\u001b[0m \u001b[1m0s\u001b[0m 11ms/step - accuracy: 0.5628 - loss: 0.8895Batch 430: logs={'accuracy': 0.5561996102333069, 'loss': 0.897770345211029}\n",
      "\u001b[1m36/57\u001b[0m \u001b[32m━━━━━━━━━━━━\u001b[0m\u001b[37m━━━━━━━━\u001b[0m \u001b[1m0s\u001b[0m 12ms/step - accuracy: 0.5611 - loss: 0.8915Batch 440: logs={'accuracy': 0.5573551654815674, 'loss': 0.8939522504806519}\n",
      "\u001b[1m46/57\u001b[0m \u001b[32m━━━━━━━━━━━━━━━━\u001b[0m\u001b[37m━━━━\u001b[0m \u001b[1m0s\u001b[0m 11ms/step - accuracy: 0.5607 - loss: 0.8915Batch 450: logs={'accuracy': 0.5632659196853638, 'loss': 0.8824663162231445}\n",
      "\u001b[1m56/57\u001b[0m \u001b[32m━━━━━━━━━━━━━━━━━━━\u001b[0m\u001b[37m━\u001b[0m \u001b[1m0s\u001b[0m 12ms/step - accuracy: 0.5610 - loss: 0.8903Model weights saved for epoch 8\n",
      "\u001b[1m57/57\u001b[0m \u001b[32m━━━━━━━━━━━━━━━━━━━━\u001b[0m\u001b[37m\u001b[0m \u001b[1m1s\u001b[0m 13ms/step - accuracy: 0.5610 - loss: 0.8901\n",
      "Epoch 9/10\n",
      "\u001b[1m 1/57\u001b[0m \u001b[37m━━━━━━━━━━━━━━━━━━━━\u001b[0m \u001b[1m1s\u001b[0m 31ms/step - accuracy: 0.5469 - loss: 0.8943Batch 460: logs={'accuracy': 0.572265625, 'loss': 0.9295859336853027}\n",
      "\u001b[1m11/57\u001b[0m \u001b[32m━━━\u001b[0m\u001b[37m━━━━━━━━━━━━━━━━━\u001b[0m \u001b[1m0s\u001b[0m 11ms/step - accuracy: 0.5555 - loss: 0.9252Batch 470: logs={'accuracy': 0.5496651530265808, 'loss': 0.9094385504722595}\n",
      "\u001b[1m21/57\u001b[0m \u001b[32m━━━━━━━\u001b[0m\u001b[37m━━━━━━━━━━━━━\u001b[0m \u001b[1m0s\u001b[0m 11ms/step - accuracy: 0.5563 - loss: 0.9136Batch 480: logs={'accuracy': 0.5712890625, 'loss': 0.880331814289093}\n",
      "\u001b[1m30/57\u001b[0m \u001b[32m━━━━━━━━━━\u001b[0m\u001b[37m━━━━━━━━━━\u001b[0m \u001b[1m0s\u001b[0m 11ms/step - accuracy: 0.5606 - loss: 0.9036Batch 490: logs={'accuracy': 0.5716911554336548, 'loss': 0.8765707015991211}\n",
      "\u001b[1m39/57\u001b[0m \u001b[32m━━━━━━━━━━━━━\u001b[0m\u001b[37m━━━━━━━\u001b[0m \u001b[1m0s\u001b[0m 12ms/step - accuracy: 0.5628 - loss: 0.8975Batch 500: logs={'accuracy': 0.572265625, 'loss': 0.8785512447357178}\n",
      "\u001b[1m52/57\u001b[0m \u001b[32m━━━━━━━━━━━━━━━━━━\u001b[0m\u001b[37m━━\u001b[0m \u001b[1m0s\u001b[0m 12ms/step - accuracy: 0.5657 - loss: 0.8921Batch 510: logs={'accuracy': 0.5768229365348816, 'loss': 0.8736306428909302}\n",
      "\u001b[1m57/57\u001b[0m \u001b[32m━━━━━━━━━━━━━━━━━━━━\u001b[0m\u001b[37m\u001b[0m \u001b[1m1s\u001b[0m 12ms/step - accuracy: 0.5668 - loss: 0.8901\n",
      "Epoch 10/10\n",
      "\u001b[1m 1/57\u001b[0m \u001b[37m━━━━━━━━━━━━━━━━━━━━\u001b[0m \u001b[1m2s\u001b[0m 36ms/step - accuracy: 0.5156 - loss: 1.0328Batch 520: logs={'accuracy': 0.5736607313156128, 'loss': 0.8789419531822205}\n",
      "\u001b[1m12/57\u001b[0m \u001b[32m━━━━\u001b[0m\u001b[37m━━━━━━━━━━━━━━━━\u001b[0m \u001b[1m0s\u001b[0m 10ms/step - accuracy: 0.5592 - loss: 0.9052Batch 530: logs={'accuracy': 0.5850183963775635, 'loss': 0.8671749234199524}\n",
      "\u001b[1m23/57\u001b[0m \u001b[32m━━━━━━━━\u001b[0m\u001b[37m━━━━━━━━━━━━\u001b[0m \u001b[1m0s\u001b[0m 10ms/step - accuracy: 0.5720 - loss: 0.8867Batch 540: logs={'accuracy': 0.5850694179534912, 'loss': 0.8614651560783386}\n",
      "\u001b[1m32/57\u001b[0m \u001b[32m━━━━━━━━━━━\u001b[0m\u001b[37m━━━━━━━━━\u001b[0m \u001b[1m0s\u001b[0m 11ms/step - accuracy: 0.5753 - loss: 0.8795Batch 550: logs={'accuracy': 0.5846706032752991, 'loss': 0.8601961135864258}\n",
      "\u001b[1m42/57\u001b[0m \u001b[32m━━━━━━━━━━━━━━\u001b[0m\u001b[37m━━━━━━\u001b[0m \u001b[1m0s\u001b[0m 11ms/step - accuracy: 0.5776 - loss: 0.8747Batch 560: logs={'accuracy': 0.585106372833252, 'loss': 0.8556686043739319}\n",
      "\u001b[1m54/57\u001b[0m \u001b[32m━━━━━━━━━━━━━━━━━━\u001b[0m\u001b[37m━━\u001b[0m \u001b[1m0s\u001b[0m 11ms/step - accuracy: 0.5797 - loss: 0.8702Batch 570: logs={'accuracy': 0.5894444584846497, 'loss': 0.8528821468353271}\n",
      "Model weights saved for epoch 10\n",
      "\u001b[1m57/57\u001b[0m \u001b[32m━━━━━━━━━━━━━━━━━━━━\u001b[0m\u001b[37m\u001b[0m \u001b[1m1s\u001b[0m 12ms/step - accuracy: 0.5803 - loss: 0.8691\n"
     ]
    },
    {
     "data": {
      "text/plain": [
       "<keras.src.callbacks.history.History at 0x21098e92510>"
      ]
     },
     "execution_count": 40,
     "metadata": {},
     "output_type": "execute_result"
    }
   ],
   "source": [
    "model.fit(X_train, Y_train, epochs=10, batch_size=128, callbacks=[batch_callback, epoch_callback])"
   ]
  },
  {
   "cell_type": "code",
   "execution_count": 41,
   "metadata": {},
   "outputs": [],
   "source": [
    "from sklearn.metrics import accuracy_score\n",
    "from sklearn.metrics import f1_score, precision_score, recall_score"
   ]
  },
  {
   "cell_type": "code",
   "execution_count": 42,
   "metadata": {},
   "outputs": [
    {
     "name": "stdout",
     "output_type": "stream",
     "text": [
      "\u001b[1m57/57\u001b[0m \u001b[32m━━━━━━━━━━━━━━━━━━━━\u001b[0m\u001b[37m\u001b[0m \u001b[1m0s\u001b[0m 4ms/step\n",
      "Accuracy: 0.3488888888888889, Precision: 0.20541221603067242, Recall: 0.3488888888888889, F1 Score: 0.18978981359649127\n"
     ]
    },
    {
     "name": "stderr",
     "output_type": "stream",
     "text": [
      "c:\\Users\\daheung\\AppData\\Local\\Programs\\Python\\Python311\\Lib\\site-packages\\sklearn\\metrics\\_classification.py:1334: UndefinedMetricWarning: Precision is ill-defined and being set to 0.0 in labels with no predicted samples. Use `zero_division` parameter to control this behavior.\n",
      "  _warn_prf(average, modifier, msg_start, len(result))\n"
     ]
    }
   ],
   "source": [
    "y_pred = model.predict(X_test)\n",
    "y_pred_classes = np.argmax(y_pred, axis=1)\n",
    "y_true = np.argmax(Y_test, axis=1)\n",
    "\n",
    "accuracy = accuracy_score(y_true, y_pred_classes)\n",
    "precision = precision_score(y_true, y_pred_classes, average='weighted')\n",
    "recall = recall_score(y_true, y_pred_classes, average='weighted')\n",
    "f1 = f1_score(y_true, y_pred_classes, average='weighted')\n",
    "\n",
    "print(f\"Accuracy: {accuracy}, Precision: {precision}, Recall: {recall}, F1 Score: {f1}\")"
   ]
  }
 ],
 "metadata": {
  "kernelspec": {
   "display_name": "Python 3",
   "language": "python",
   "name": "python3"
  },
  "language_info": {
   "codemirror_mode": {
    "name": "ipython",
    "version": 3
   },
   "file_extension": ".py",
   "mimetype": "text/x-python",
   "name": "python",
   "nbconvert_exporter": "python",
   "pygments_lexer": "ipython3",
   "version": "3.11.9"
  }
 },
 "nbformat": 4,
 "nbformat_minor": 2
}
